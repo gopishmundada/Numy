{
 "cells": [
  {
   "cell_type": "code",
   "execution_count": 2,
   "metadata": {},
   "outputs": [],
   "source": [
    "#Features\n",
    "# SIMD vector processing\n",
    "# effective cache system\n",
    "# MATLAB Replacement\n",
    "# Useful in ML\n",
    "# Load Numpy"
   ]
  },
  {
   "cell_type": "code",
   "execution_count": 150,
   "metadata": {},
   "outputs": [],
   "source": [
    "import numpy as np"
   ]
  },
  {
   "cell_type": "markdown",
   "metadata": {},
   "source": [
    "# BASICS  (Creating Arrays, Shape, Size etc.)"
   ]
  },
  {
   "cell_type": "code",
   "execution_count": 68,
   "metadata": {},
   "outputs": [
    {
     "name": "stdout",
     "output_type": "stream",
     "text": [
      "(2, 3)\n",
      "6\n"
     ]
    },
    {
     "data": {
      "text/plain": [
       "12"
      ]
     },
     "execution_count": 68,
     "metadata": {},
     "output_type": "execute_result"
    }
   ],
   "source": [
    "#BASICS  (Creating Arrays, Shape, Size etc.)\n",
    "\n",
    "# 1_D\n",
    "a = np.array([2,3,5])\n",
    "a\n",
    "\n",
    "# 2_D\n",
    "b = np.array([[2,5,6],[5,8,9]], dtype = 'int16')\n",
    "b\n",
    "v = b.size\n",
    "\n",
    "#Get The dimention\n",
    "a.ndim\n",
    "\n",
    "#Get Shape\n",
    "print(b.shape)\n",
    "\n",
    "#Get Data_Type\n",
    "a.dtype\n",
    "\n",
    "#Get Size\n",
    "print(b.size)\n",
    "\n",
    "#Get Item_Size\n",
    "a.itemsize\n",
    "\n",
    "#Get Total Size\n",
    "# = a.itemsize * a.size\n",
    "a.nbytes"
   ]
  },
  {
   "cell_type": "markdown",
   "metadata": {},
   "source": [
    "# Accessing/changing specific elements rows, cloumns etc"
   ]
  },
  {
   "cell_type": "code",
   "execution_count": 248,
   "metadata": {},
   "outputs": [
    {
     "name": "stdout",
     "output_type": "stream",
     "text": [
      "[[ 2  5  6  5  8  9]\n",
      " [ 5  8  9 11 63 59]]\n",
      "[ 5 11]\n",
      "63\n",
      "[ 5  8  9 11 63 59]\n",
      "79\n",
      "[[  2   5   6 999   8   9]]\n",
      "[2 5 6 8 9]\n",
      "[2 5 9]\n"
     ]
    }
   ],
   "source": [
    "#Accessing/changing specific elements rows, cloumns etc\n",
    "\n",
    "a = np.array([[2,5,6,5,8,9],[5,8,9,11,63,59]])\n",
    "print(a)\n",
    "x = a[:,3]\n",
    "print(x)\n",
    "print(a[1,4])\n",
    "print(a[1,:])\n",
    "\n",
    "#Get Specific elemets with changes on runtime\n",
    "a[0,3] = 16 + a[1,4]\n",
    "print(a[0,3])\n",
    "\n",
    "#change elements value\n",
    "a[0,3] = 999\n",
    "\n",
    "#delete elements\n",
    "a = np.delete(a,1,axis = 0) #delete row 1\n",
    "print(a)\n",
    "a = np.delete(a,3) #delete 3rd element\n",
    "print(a)\n",
    "a = np.delete(a,[2,3]) #delete multiple elements bu location\n",
    "print(a)"
   ]
  },
  {
   "cell_type": "markdown",
   "metadata": {},
   "source": [
    "# Initalizing value"
   ]
  },
  {
   "cell_type": "code",
   "execution_count": 126,
   "metadata": {},
   "outputs": [
    {
     "name": "stdout",
     "output_type": "stream",
     "text": [
      "[[0 0 0]\n",
      " [0 0 0]]\n",
      "[[1 1 1]\n",
      " [1 1 1]]\n",
      "[[99 99 99]\n",
      " [99 99 99]]\n",
      "4\n",
      "[[0.32765163 0.54639512 0.61716797 0.44825917 0.98657354]\n",
      " [0.33976106 0.11116934 0.64190386 0.2556909  0.39524507]]\n",
      "[[4 5 3]\n",
      " [6 6 4]]\n",
      "[[1. 0. 0.]\n",
      " [0. 1. 0.]\n",
      " [0. 0. 1.]]\n"
     ]
    },
    {
     "data": {
      "text/plain": [
       "array([[1, 2, 3],\n",
       "       [1, 2, 3]])"
      ]
     },
     "execution_count": 126,
     "metadata": {},
     "output_type": "execute_result"
    }
   ],
   "source": [
    "#Initalizing value\n",
    "\n",
    "a = np.zeros((2,3), dtype = 'int64') #all zero\n",
    "print(a)\n",
    "b = np.ones((2,3), dtype = 'int32') #all one\n",
    "print(b)\n",
    "c = np.full((2,3),99) # all 99\n",
    "print(c)\n",
    "d = np.full_like(v,4)\n",
    "print(d)\n",
    "print(np.random.rand(2,5)) #random decimal numbers\n",
    "\n",
    "print(np.random.randint(2,7,size = (2,3))) #random integers from 2 to 6\n",
    "\n",
    "print(np.identity(3)) #identity matrix\n",
    "\n",
    "# Repeat array values\n",
    "x = np.array([[1,2,3]])\n",
    "r1 = np.repeat(x,2,axis=0)\n",
    "r1"
   ]
  },
  {
   "cell_type": "markdown",
   "metadata": {},
   "source": [
    "# Important"
   ]
  },
  {
   "cell_type": "code",
   "execution_count": 140,
   "metadata": {},
   "outputs": [
    {
     "name": "stdout",
     "output_type": "stream",
     "text": [
      "[1 2 3]\n",
      "[1 2 3]\n",
      "[100   2   3]\n",
      "[100   2   3]\n",
      "\n",
      "\n",
      "[1 2 3]\n",
      "[1 2 3]\n",
      "[1 2 3]\n",
      "[100   2   3]\n"
     ]
    }
   ],
   "source": [
    "a = np.array([1,2,3])\n",
    "print(a)\n",
    "b = a\n",
    "print(b)\n",
    "b[0] = 100\n",
    "print(a)\n",
    "print(b)\n",
    "print('\\n')\n",
    "# see the changes\n",
    "a = np.array([1,2,3])\n",
    "print(a)\n",
    "b = a.copy()\n",
    "print(b)\n",
    "b[0] = 100\n",
    "print(a)\n",
    "print(b)"
   ]
  },
  {
   "cell_type": "markdown",
   "metadata": {},
   "source": [
    "# 1,1,1,1,1\n",
    "# 1,0,0,0,1\n",
    "# 1,0,9,0,1\n",
    "# 1,0,0,0,1\n",
    "# 1,1,1,1,1\n",
    "# code to print above format"
   ]
  },
  {
   "cell_type": "code",
   "execution_count": 183,
   "metadata": {},
   "outputs": [
    {
     "data": {
      "text/plain": [
       "array([[1., 1., 1., 1., 1.],\n",
       "       [1., 0., 0., 0., 1.],\n",
       "       [1., 0., 9., 0., 1.],\n",
       "       [1., 0., 0., 0., 1.],\n",
       "       [1., 1., 1., 1., 1.]])"
      ]
     },
     "execution_count": 183,
     "metadata": {},
     "output_type": "execute_result"
    }
   ],
   "source": [
    "#code to print above format\n",
    "a = np.ones((5,5))\n",
    "z = np.zeros((3,3))\n",
    "z[1,1] = 9\n",
    "z\n",
    "a[1:4,1:4] = z\n",
    "a\n",
    "#np.linalg.det(a)"
   ]
  },
  {
   "cell_type": "markdown",
   "metadata": {},
   "source": [
    "# basic Maths"
   ]
  },
  {
   "cell_type": "code",
   "execution_count": 184,
   "metadata": {},
   "outputs": [
    {
     "data": {
      "text/plain": [
       "array([ 1,  5,  6,  9,  8, 55, 62,  2])"
      ]
     },
     "execution_count": 184,
     "metadata": {},
     "output_type": "execute_result"
    }
   ],
   "source": [
    "a = np.array([1,5,6,9,8,55,62,2])\n",
    "a"
   ]
  },
  {
   "cell_type": "code",
   "execution_count": 185,
   "metadata": {},
   "outputs": [
    {
     "data": {
      "text/plain": [
       "array([ 3,  7,  8, 11, 10, 57, 64,  4])"
      ]
     },
     "execution_count": 185,
     "metadata": {},
     "output_type": "execute_result"
    }
   ],
   "source": [
    "a += 2\n",
    "a"
   ]
  },
  {
   "cell_type": "code",
   "execution_count": 186,
   "metadata": {},
   "outputs": [
    {
     "data": {
      "text/plain": [
       "array([ 1,  5,  6,  9,  8, 55, 62,  2])"
      ]
     },
     "execution_count": 186,
     "metadata": {},
     "output_type": "execute_result"
    }
   ],
   "source": [
    "a - 2"
   ]
  },
  {
   "cell_type": "code",
   "execution_count": 187,
   "metadata": {},
   "outputs": [
    {
     "name": "stdout",
     "output_type": "stream",
     "text": [
      "[ 4.5 10.5 12.  16.5 15.  85.5 96.   6. ]\n",
      "[ 4 10 12 16 15 85 96  6]\n"
     ]
    }
   ],
   "source": [
    "a = a / 2\n",
    "a\n",
    "b = np.array([ 3,  7,  8, 11, 10, 57, 64,  4])\n",
    "b\n",
    "z = a + b\n",
    "print(z)\n",
    "x = np.array(z,dtype = 'int64')\n",
    "print(x)"
   ]
  },
  {
   "cell_type": "code",
   "execution_count": 188,
   "metadata": {},
   "outputs": [
    {
     "name": "stdout",
     "output_type": "stream",
     "text": [
      "[-0.7568025  -0.54402111 -0.53657292 -0.28790332  0.65028784 -0.17607562\n",
      "  0.98358775 -0.2794155 ]\n",
      "[-0.65364362 -0.83907153  0.84385396 -0.95765948 -0.75968791 -0.98437664\n",
      " -0.18043045  0.96017029]\n"
     ]
    }
   ],
   "source": [
    "#trigonometry\n",
    "p = np.sin(x)\n",
    "print(p)\n",
    "\n",
    "c = np.cos(x)\n",
    "print(c)"
   ]
  },
  {
   "cell_type": "markdown",
   "metadata": {},
   "source": [
    "# Statistics\n"
   ]
  },
  {
   "cell_type": "code",
   "execution_count": 207,
   "metadata": {},
   "outputs": [
    {
     "name": "stdout",
     "output_type": "stream",
     "text": [
      "[[ 2  5 18]\n",
      " [11  1  9]]\n"
     ]
    }
   ],
   "source": [
    "# Statistics\n",
    "b = np.array([[2,5,18],[11,1,9]])\n",
    "print(b)"
   ]
  },
  {
   "cell_type": "code",
   "execution_count": 208,
   "metadata": {},
   "outputs": [
    {
     "data": {
      "text/plain": [
       "1"
      ]
     },
     "execution_count": 208,
     "metadata": {},
     "output_type": "execute_result"
    }
   ],
   "source": [
    "np.min(b)"
   ]
  },
  {
   "cell_type": "code",
   "execution_count": 209,
   "metadata": {},
   "outputs": [
    {
     "data": {
      "text/plain": [
       "array([18, 11])"
      ]
     },
     "execution_count": 209,
     "metadata": {},
     "output_type": "execute_result"
    }
   ],
   "source": [
    "np.max(b, axis = 1)"
   ]
  },
  {
   "cell_type": "code",
   "execution_count": 210,
   "metadata": {},
   "outputs": [
    {
     "data": {
      "text/plain": [
       "46"
      ]
     },
     "execution_count": 210,
     "metadata": {},
     "output_type": "execute_result"
    }
   ],
   "source": [
    "np.sum(b)"
   ]
  },
  {
   "cell_type": "markdown",
   "metadata": {},
   "source": [
    "# Re - organizing Arrays"
   ]
  },
  {
   "cell_type": "code",
   "execution_count": 223,
   "metadata": {},
   "outputs": [
    {
     "name": "stdout",
     "output_type": "stream",
     "text": [
      "[[ 1  2  5  0]\n",
      " [55 86 33  7]]\n",
      "\n",
      "[[ 1  2]\n",
      " [ 5  0]\n",
      " [55 86]\n",
      " [33  7]]\n",
      "\n",
      "[[[ 1  2]\n",
      "  [ 5  0]]\n",
      "\n",
      " [[55 86]\n",
      "  [33  7]]]\n"
     ]
    }
   ],
   "source": [
    "#Reshape\n",
    "b4 = np.array([[1,2,5,0],[55,86,33,7]])\n",
    "print(b4)\n",
    "print()\n",
    "after = b4.reshape((4,2))\n",
    "print(after)\n",
    "print()\n",
    "after = b4.reshape((2,2,2))\n",
    "print(after)"
   ]
  },
  {
   "cell_type": "code",
   "execution_count": 224,
   "metadata": {},
   "outputs": [
    {
     "data": {
      "text/plain": [
       "array([[ 5,  9,  6,  8,  9],\n",
       "       [ 5,  9,  6,  8,  9],\n",
       "       [10,  7,  2,  1,  3],\n",
       "       [ 5,  9,  6,  8,  9],\n",
       "       [10,  7,  2,  1,  3]])"
      ]
     },
     "execution_count": 224,
     "metadata": {},
     "output_type": "execute_result"
    }
   ],
   "source": [
    "#Vertically Stacking Vectors\n",
    "v1 = np.array([5,9,6,8,9])\n",
    "v2 = np.array([10,7,2,1,3])\n",
    "\n",
    "np.vstack([v1,v1,v2,v1,v2])"
   ]
  },
  {
   "cell_type": "markdown",
   "metadata": {},
   "source": [
    "# Load Data from file"
   ]
  },
  {
   "cell_type": "code",
   "execution_count": 234,
   "metadata": {},
   "outputs": [
    {
     "name": "stdout",
     "output_type": "stream",
     "text": [
      "[[  5.   9.   6.   8.   9.  11.  22.  99.]\n",
      " [  6.   9.   8.   6.  11.  22. 369. 505.]\n",
      " [ 88.   9.   7.   5.   2.  13. 999. 101.]]\n",
      "[[  5   9   6   8   9  11  22  99]\n",
      " [  6   9   8   6  11  22 369 505]\n",
      " [ 88   9   7   5   2  13 999 101]]\n",
      "[[  5   9   6   8   9  11  22  99]\n",
      " [  6   9   8   6  11  22 369 505]\n",
      " [ 88   9   7   5   2  13 999 101]]\n"
     ]
    }
   ],
   "source": [
    "files = np.genfromtxt('baba.txt', delimiter=',')\n",
    "print(files)\n",
    "print(files.astype('int64'))\n",
    "files = np.genfromtxt('baba.txt', delimiter=',').astype('int64')\n",
    "print(files)"
   ]
  },
  {
   "cell_type": "markdown",
   "metadata": {},
   "source": [
    "# Boolean masking and advance indexing"
   ]
  },
  {
   "cell_type": "code",
   "execution_count": 264,
   "metadata": {},
   "outputs": [
    {
     "name": "stdout",
     "output_type": "stream",
     "text": [
      "[[False False False False False False False False]\n",
      " [False False False False False False False  True]\n",
      " [False False False False False False  True False]]\n",
      "\n",
      "[[ True  True  True  True  True  True  True  True]\n",
      " [ True  True  True  True  True  True False False]\n",
      " [ True  True  True  True  True  True False False]]\n",
      "\n",
      "[[False False False False False False False False]\n",
      " [False False False False False False  True  True]\n",
      " [False False False False False False False  True]]\n"
     ]
    }
   ],
   "source": [
    "print(files > 500)\n",
    "print()\n",
    "print(~(files > 100) & (files < 700))\n",
    "print()\n",
    "print((files > 100) & (files < 700))"
   ]
  },
  {
   "cell_type": "code",
   "execution_count": 262,
   "metadata": {},
   "outputs": [
    {
     "name": "stdout",
     "output_type": "stream",
     "text": [
      "[505 999]\n",
      "\n",
      "[369 505 101]\n"
     ]
    },
    {
     "data": {
      "text/plain": [
       "array([False, False, False, False, False, False, False,  True])"
      ]
     },
     "execution_count": 262,
     "metadata": {},
     "output_type": "execute_result"
    }
   ],
   "source": [
    "print(files[files > 500])\n",
    "print()\n",
    "print(files[((files > 100) & (files < 700))])\n",
    "np.all(files > 50 , axis =0)"
   ]
  },
  {
   "cell_type": "code",
   "execution_count": 251,
   "metadata": {},
   "outputs": [
    {
     "name": "stdout",
     "output_type": "stream",
     "text": [
      "[5 9 8 9]\n"
     ]
    },
    {
     "data": {
      "text/plain": [
       "array([8, 9])"
      ]
     },
     "execution_count": 251,
     "metadata": {},
     "output_type": "execute_result"
    }
   ],
   "source": [
    "v1 = np.array([5,9,6,8,9])\n",
    "v1 = np.delete(v1,2)\n",
    "print(v1)\n",
    "v1[[2,3]]"
   ]
  },
  {
   "cell_type": "markdown",
   "metadata": {},
   "source": [
    "# Problem"
   ]
  },
  {
   "cell_type": "code",
   "execution_count": 276,
   "metadata": {},
   "outputs": [
    {
     "data": {
      "text/plain": [
       "array([[ 1,  2,  3,  4,  5],\n",
       "       [ 6,  7,  8,  9, 10],\n",
       "       [11, 12, 13, 14, 15],\n",
       "       [16, 17, 18, 19, 20],\n",
       "       [21, 22, 23, 24, 25],\n",
       "       [26, 27, 28, 29, 30]])"
      ]
     },
     "execution_count": 276,
     "metadata": {},
     "output_type": "execute_result"
    }
   ],
   "source": [
    "a = np.arange(1,31)\n",
    "b = a.reshape(6,5)\n",
    "b"
   ]
  },
  {
   "cell_type": "code",
   "execution_count": 290,
   "metadata": {},
   "outputs": [
    {
     "data": {
      "text/plain": [
       "array([[11, 12],\n",
       "       [16, 17]])"
      ]
     },
     "execution_count": 290,
     "metadata": {},
     "output_type": "execute_result"
    }
   ],
   "source": [
    "b[2:4,0:2]"
   ]
  },
  {
   "cell_type": "code",
   "execution_count": 283,
   "metadata": {},
   "outputs": [
    {
     "data": {
      "text/plain": [
       "array([ 2,  8, 14, 20])"
      ]
     },
     "execution_count": 283,
     "metadata": {},
     "output_type": "execute_result"
    }
   ],
   "source": [
    "b[[0,1,2,3],[1,2,3,4]]"
   ]
  },
  {
   "cell_type": "code",
   "execution_count": 293,
   "metadata": {},
   "outputs": [
    {
     "data": {
      "text/plain": [
       "array([[ 3,  4],\n",
       "       [23, 24],\n",
       "       [28, 29]])"
      ]
     },
     "execution_count": 293,
     "metadata": {},
     "output_type": "execute_result"
    }
   ],
   "source": [
    "b[[0,4,5],2:4]"
   ]
  },
  {
   "cell_type": "code",
   "execution_count": 294,
   "metadata": {},
   "outputs": [
    {
     "data": {
      "text/plain": [
       "array([[ 3,  4,  5],\n",
       "       [23, 24, 25],\n",
       "       [28, 29, 30]])"
      ]
     },
     "execution_count": 294,
     "metadata": {},
     "output_type": "execute_result"
    }
   ],
   "source": [
    "b[[0,4,5],2:]"
   ]
  },
  {
   "cell_type": "code",
   "execution_count": 297,
   "metadata": {},
   "outputs": [
    {
     "data": {
      "text/plain": [
       "array([[ 2,  3],\n",
       "       [ 7,  8],\n",
       "       [12, 13],\n",
       "       [17, 18],\n",
       "       [22, 23],\n",
       "       [27, 28]])"
      ]
     },
     "execution_count": 297,
     "metadata": {},
     "output_type": "execute_result"
    }
   ],
   "source": [
    "b[0:,[1,2]]"
   ]
  },
  {
   "cell_type": "code",
   "execution_count": 300,
   "metadata": {},
   "outputs": [
    {
     "name": "stdout",
     "output_type": "stream",
     "text": [
      "6.29 µs ± 392 ns per loop (mean ± std. dev. of 7 runs, 100000 loops each)\n"
     ]
    }
   ],
   "source": [
    "b[0:3,[1,2]]"
   ]
  },
  {
   "cell_type": "markdown",
   "metadata": {},
   "source": [
    "# Get The loop time of NUMPY"
   ]
  },
  {
   "cell_type": "code",
   "execution_count": 301,
   "metadata": {},
   "outputs": [
    {
     "name": "stdout",
     "output_type": "stream",
     "text": [
      "104 ms ± 4.13 ms per loop (mean ± std. dev. of 7 runs, 10 loops each)\n"
     ]
    }
   ],
   "source": [
    "%timeit for i in np.arange(1000000): pass"
   ]
  },
  {
   "cell_type": "code",
   "execution_count": 302,
   "metadata": {},
   "outputs": [
    {
     "name": "stdout",
     "output_type": "stream",
     "text": [
      "589 ns ± 29.5 ns per loop (mean ± std. dev. of 7 runs, 1000000 loops each)\n"
     ]
    },
    {
     "data": {
      "text/plain": [
       "array([[ 1,  2,  3,  4,  5],\n",
       "       [ 6,  7,  8,  9, 10],\n",
       "       [11, 12, 13, 14, 15],\n",
       "       [16, 17, 18, 19, 20],\n",
       "       [21, 22, 23, 24, 25],\n",
       "       [26, 27, 28, 29, 30]])"
      ]
     },
     "execution_count": 302,
     "metadata": {},
     "output_type": "execute_result"
    }
   ],
   "source": [
    "a = np.arange(1,31)\n",
    "%timeit b = a.reshape(6,5)\n",
    "b"
   ]
  },
  {
   "cell_type": "code",
   "execution_count": null,
   "metadata": {},
   "outputs": [],
   "source": []
  }
 ],
 "metadata": {
  "kernelspec": {
   "display_name": "Python 3",
   "language": "python",
   "name": "python3"
  },
  "language_info": {
   "codemirror_mode": {
    "name": "ipython",
    "version": 3
   },
   "file_extension": ".py",
   "mimetype": "text/x-python",
   "name": "python",
   "nbconvert_exporter": "python",
   "pygments_lexer": "ipython3",
   "version": "3.7.4"
  }
 },
 "nbformat": 4,
 "nbformat_minor": 2
}
